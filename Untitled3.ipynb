{
  "nbformat": 4,
  "nbformat_minor": 0,
  "metadata": {
    "colab": {
      "provenance": []
    },
    "kernelspec": {
      "name": "python3",
      "display_name": "Python 3"
    },
    "language_info": {
      "name": "python"
    }
  },
  "cells": [
    {
      "cell_type": "code",
      "execution_count": 2,
      "metadata": {
        "colab": {
          "base_uri": "https://localhost:8080/"
        },
        "id": "t7mO5lwYghar",
        "outputId": "3d3a51f6-17ef-401d-a135-b32010e7d0fc"
      },
      "outputs": [
        {
          "output_type": "stream",
          "name": "stdout",
          "text": [
            "1-прямоугольник, 2-треугольник, 3-круг\n",
            "Выберте фигуру: 2\n",
            "Длины сторон треугольника\n",
            "a= 4\n",
            "b= 5\n",
            "c= 6\n",
            "Площадь: 9.92\n"
          ]
        }
      ],
      "source": [
        "from math import sqrt, pi\n",
        "print(\"1-прямоугольник, 2-треугольник, 3-круг\")\n",
        "figure=input(\"Выберте фигуру: \")\n",
        "if figure==\"1\":\n",
        " print(\"Длины сторони прямоугольника:\")\n",
        " a=float(input(\"a= \"))\n",
        " b=float(input(\"b= \"))\n",
        " print(\"Площадь: %.2f\" % (a*b))\n",
        "if figure==\"2\":\n",
        " print(\"Длины сторон треугольника\")\n",
        " a=float(input(\"a= \"))\n",
        " b=float(input(\"b= \"))\n",
        " c=float(input(\"c= \"))\n",
        " p=(a+b+c)/2\n",
        " s=sqrt(p*(p-a)*(p-b)*(p-c))\n",
        " print(\"Площадь: %.2f\" % s)\n",
        "elif figure==\"3\":\n",
        "  r=float(input(\"Радиус круга R= \"))\n",
        "  print(\"Площадь:%.2f\" % (pi*r**2))\n",
        "\n",
        "  a = []\n",
        "  b = []\n",
        "  c = []\n",
        "  a.append(2)\n",
        "  a[0]\n",
        "\n",
        "  [3, 5, 87, 34, 56, 56,56, 34,34,34,3,4]\n",
        "\n",
        "  a = 0\n",
        "  a = input(\"Ввдеите количество данных\")\n",
        "\n",
        "  for i in range(a):\n",
        "    r = input(\"Введите чило\")\n",
        "    a.append(r)\n",
        "\n",
        "\n",
        "  b = 1\n",
        "  while b != 0:\n",
        "    wk = input(\"Введите число\")\n",
        "    a.append(wk)\n",
        "    wk = b\n",
        "\n",
        "  c = 1\n",
        "  a.count\n",
        "  for i in range(a):\n",
        "    c += i / a\n"
      ]
    },
    {
      "cell_type": "code",
      "source": [
        "a = []\n",
        "b = 1\n",
        "while b != 0:\n",
        "  if len(a) < 15:\n",
        "    wk = int(input(\"Введите число: \"))\n",
        "    if wk != 0:\n",
        "      a.append(wk)\n",
        "    b = wk\n",
        "  else:\n",
        "    b = 0\n",
        "\n",
        "c = 1\n",
        "count = len(a)\n",
        "for i in range(len(a)):\n",
        "  c += a[i] / count\n",
        "print(c)"
      ],
      "metadata": {
        "colab": {
          "base_uri": "https://localhost:8080/"
        },
        "id": "NFiVyj3Nrth1",
        "outputId": "db6be3d6-b024-4433-ceb8-22e091658ac1"
      },
      "execution_count": 39,
      "outputs": [
        {
          "output_type": "stream",
          "name": "stdout",
          "text": [
            "Введите число: 1\n",
            "Введите число: 2\n",
            "Введите число: 3\n",
            "Введите число: 4\n",
            "Введите число: 5\n",
            "Введите число: 6\n",
            "Введите число: 7\n",
            "Введите число: 8\n",
            "Введите число: 9\n",
            "Введите число: 10\n",
            "Введите число: 11\n",
            "Введите число: 12\n",
            "Введите число: 13\n",
            "Введите число: 14\n",
            "Введите число: 15\n",
            "9.0\n"
          ]
        }
      ]
    }
  ]
}